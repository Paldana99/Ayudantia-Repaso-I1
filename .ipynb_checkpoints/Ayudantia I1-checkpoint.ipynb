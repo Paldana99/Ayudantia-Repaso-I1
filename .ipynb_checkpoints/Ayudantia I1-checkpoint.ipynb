{
 "cells": [
  {
   "cell_type": "markdown",
   "id": "1a4cd0d9-57b6-465e-9bb0-de537b313fd2",
   "metadata": {},
   "source": [
    "# Repaso I1\n",
    "\n",
    "- Variables\n",
    "- Operadores\n",
    "- Control de Flujo\n",
    "  - If, else\n",
    "  - For\n",
    "  - While\n",
    "- Funciones\n",
    "- String"
   ]
  },
  {
   "cell_type": "code",
   "execution_count": 1,
   "id": "334cddb4-ef09-4059-b637-9283a63bd21c",
   "metadata": {},
   "outputs": [
    {
     "name": "stdout",
     "output_type": "stream",
     "text": [
      "Hola mundo!\n"
     ]
    }
   ],
   "source": [
    "print(\"Hola mundo!\")"
   ]
  },
  {
   "cell_type": "markdown",
   "id": "110bae16-bf0c-41f2-ac66-e6a26772a6e0",
   "metadata": {},
   "source": [
    "# Variables\n",
    "## Tipos de variable\n",
    "Distintos tipos de variable:\n",
    "### INT\n",
    "Números enteros\n",
    "### Float\n",
    "Números decimales\n",
    "### Str\n",
    "String, texto. Siempre entre comillas dobles o simples.\n",
    "### Booleanos\n",
    "Asignar Verdad o Falso: `True` o `False`"
   ]
  },
  {
   "cell_type": "code",
   "execution_count": 2,
   "id": "98629f05-61f0-4f1c-a300-2d9c25d46b79",
   "metadata": {},
   "outputs": [
    {
     "name": "stdout",
     "output_type": "stream",
     "text": [
      "<class 'int'>\n",
      "<class 'float'>\n",
      "<class 'str'>\n",
      "<class 'str'>\n",
      "<class 'bool'>\n"
     ]
    }
   ],
   "source": [
    "print(type(1))\n",
    "print(type(1.0))\n",
    "print(type(\"Un string\"))\n",
    "print(type('Otro string'))\n",
    "print(type(True))"
   ]
  },
  {
   "cell_type": "markdown",
   "id": "277a2237-55ec-4f5f-b52e-f69f82179900",
   "metadata": {},
   "source": [
    "## Operaciones basicas\n",
    "Suma:"
   ]
  },
  {
   "cell_type": "code",
   "execution_count": 3,
   "id": "d51d5a87-6f1c-4343-a4e5-d02987e4f9d2",
   "metadata": {},
   "outputs": [
    {
     "data": {
      "text/plain": [
       "3"
      ]
     },
     "execution_count": 3,
     "metadata": {},
     "output_type": "execute_result"
    }
   ],
   "source": [
    "1 + 2"
   ]
  },
  {
   "cell_type": "markdown",
   "id": "e41747e7-c1d4-4b6e-b67d-d75ae99ccbc5",
   "metadata": {},
   "source": [
    "Resta"
   ]
  },
  {
   "cell_type": "code",
   "execution_count": 4,
   "id": "55a542d0-0d7c-44d2-8173-582a33710ab0",
   "metadata": {},
   "outputs": [
    {
     "data": {
      "text/plain": [
       "-1"
      ]
     },
     "execution_count": 4,
     "metadata": {},
     "output_type": "execute_result"
    }
   ],
   "source": [
    "1 - 2"
   ]
  },
  {
   "cell_type": "markdown",
   "id": "19e8d08b-d366-4d36-b074-1d74dd1c9bea",
   "metadata": {},
   "source": [
    "Multiplicacion\n"
   ]
  },
  {
   "cell_type": "code",
   "execution_count": 5,
   "id": "4617997a-ad39-40b6-aa0f-8790079b6254",
   "metadata": {},
   "outputs": [
    {
     "data": {
      "text/plain": [
       "50"
      ]
     },
     "execution_count": 5,
     "metadata": {},
     "output_type": "execute_result"
    }
   ],
   "source": [
    "10 * 5"
   ]
  },
  {
   "cell_type": "markdown",
   "id": "78d89fff-ae0a-47fb-9153-7f02e06035a7",
   "metadata": {},
   "source": [
    "División"
   ]
  },
  {
   "cell_type": "code",
   "execution_count": 6,
   "id": "cba217e5-5336-4839-ad2f-704df4e2f08e",
   "metadata": {},
   "outputs": [
    {
     "data": {
      "text/plain": [
       "6.666666666666667"
      ]
     },
     "execution_count": 6,
     "metadata": {},
     "output_type": "execute_result"
    }
   ],
   "source": [
    "20/3"
   ]
  },
  {
   "cell_type": "markdown",
   "id": "c76f79f5-2a13-42c5-b522-d19643f3906b",
   "metadata": {},
   "source": [
    "División entera"
   ]
  },
  {
   "cell_type": "code",
   "execution_count": 7,
   "id": "cb37abe6-3836-4bee-8012-ac19cf825528",
   "metadata": {},
   "outputs": [
    {
     "data": {
      "text/plain": [
       "6"
      ]
     },
     "execution_count": 7,
     "metadata": {},
     "output_type": "execute_result"
    }
   ],
   "source": [
    "20//3"
   ]
  },
  {
   "cell_type": "markdown",
   "id": "4a92680f-b13c-4377-b773-af200fc30bad",
   "metadata": {},
   "source": [
    "Exponente"
   ]
  },
  {
   "cell_type": "code",
   "execution_count": 8,
   "id": "80440262-8a27-4f11-84ce-c385f3086491",
   "metadata": {},
   "outputs": [
    {
     "data": {
      "text/plain": [
       "256"
      ]
     },
     "execution_count": 8,
     "metadata": {},
     "output_type": "execute_result"
    }
   ],
   "source": [
    "2**8"
   ]
  },
  {
   "cell_type": "markdown",
   "id": "237d4fb2-de69-4ae7-840a-87275a92b4a2",
   "metadata": {},
   "source": [
    "Modulo"
   ]
  },
  {
   "cell_type": "code",
   "execution_count": 9,
   "id": "89148890-0931-459f-a492-36e41185ca20",
   "metadata": {},
   "outputs": [
    {
     "data": {
      "text/plain": [
       "1"
      ]
     },
     "execution_count": 9,
     "metadata": {},
     "output_type": "execute_result"
    }
   ],
   "source": [
    "10%3"
   ]
  },
  {
   "cell_type": "markdown",
   "id": "f6e923b9-9787-43f5-8ad5-e49d140ad993",
   "metadata": {},
   "source": [
    "Ejemplo:\n",
    "Obtener las primeras tres cifras del numero: `167 980`"
   ]
  },
  {
   "cell_type": "code",
   "execution_count": 10,
   "id": "82cec015-9ac5-42b0-9f54-429b4eaf8609",
   "metadata": {},
   "outputs": [
    {
     "data": {
      "text/plain": [
       "167"
      ]
     },
     "execution_count": 10,
     "metadata": {},
     "output_type": "execute_result"
    }
   ],
   "source": [
    "167980//1000"
   ]
  },
  {
   "cell_type": "markdown",
   "id": "2b6a5860-6688-4c35-9adc-cebb33a354a7",
   "metadata": {},
   "source": [
    "O las ultimas dos cifras"
   ]
  },
  {
   "cell_type": "code",
   "execution_count": 11,
   "id": "de999077-fa80-463d-9d3f-294482a5323f",
   "metadata": {},
   "outputs": [
    {
     "data": {
      "text/plain": [
       "80"
      ]
     },
     "execution_count": 11,
     "metadata": {},
     "output_type": "execute_result"
    }
   ],
   "source": [
    "167980%100"
   ]
  },
  {
   "cell_type": "markdown",
   "id": "947688f1-847f-4069-9aef-382f5316a2b2",
   "metadata": {},
   "source": [
    "## Operaciones booleanas"
   ]
  },
  {
   "cell_type": "code",
   "execution_count": 12,
   "id": "b7addb77-4a84-4106-9724-99dafbf408a6",
   "metadata": {},
   "outputs": [
    {
     "name": "stdout",
     "output_type": "stream",
     "text": [
      "False\n",
      "False\n",
      "True\n",
      "False\n"
     ]
    }
   ],
   "source": [
    "print(1 == 2)\n",
    "print(1 == \"2\")\n",
    "print(\"1\" == \"1\")\n",
    "print(\"Uno\" == \"Dos\")"
   ]
  },
  {
   "cell_type": "code",
   "execution_count": 13,
   "id": "2d2886a8-632f-4efa-8e33-1829bd74e94e",
   "metadata": {},
   "outputs": [
    {
     "name": "stdout",
     "output_type": "stream",
     "text": [
      "True\n",
      "True\n",
      "False\n",
      "True\n"
     ]
    }
   ],
   "source": [
    "print(1 != 2)\n",
    "print(1 != \"2\")\n",
    "print(\"1\" != \"1\")\n",
    "print(\"Uno\" != \"Dos\")"
   ]
  },
  {
   "cell_type": "code",
   "execution_count": 14,
   "id": "127dec7e-becc-4649-8170-0b01f5577c25",
   "metadata": {},
   "outputs": [
    {
     "name": "stdout",
     "output_type": "stream",
     "text": [
      "True\n",
      "False\n",
      "True\n",
      "False\n"
     ]
    }
   ],
   "source": [
    "print(1 < 2)\n",
    "print(1 > 2)\n",
    "print(1 <= 2)\n",
    "print(1 >= 2)"
   ]
  },
  {
   "cell_type": "code",
   "execution_count": 15,
   "id": "8c97f97a-95cd-4d55-ab60-43136561bf7b",
   "metadata": {},
   "outputs": [
    {
     "name": "stdout",
     "output_type": "stream",
     "text": [
      "False\n",
      "True\n",
      "False\n",
      "True\n"
     ]
    }
   ],
   "source": [
    "print(True and False)\n",
    "print(True or False)\n",
    "print(not True)\n",
    "print(not False)"
   ]
  },
  {
   "cell_type": "markdown",
   "id": "52090084-132e-4e86-b91d-a0b8c2695034",
   "metadata": {},
   "source": [
    "## Operaciones sobre string"
   ]
  },
  {
   "cell_type": "code",
   "execution_count": 16,
   "id": "73289c84-57ec-4314-8926-746af0707c27",
   "metadata": {},
   "outputs": [
    {
     "data": {
      "text/plain": [
       "'HolaMundo'"
      ]
     },
     "execution_count": 16,
     "metadata": {},
     "output_type": "execute_result"
    }
   ],
   "source": [
    "\"Hola\" + \"Mundo\""
   ]
  },
  {
   "cell_type": "code",
   "execution_count": 17,
   "id": "e21f142c-646e-4dbf-8a1a-0e628c43ec8f",
   "metadata": {},
   "outputs": [
    {
     "data": {
      "text/plain": [
       "'HolaHolaHola'"
      ]
     },
     "execution_count": 17,
     "metadata": {},
     "output_type": "execute_result"
    }
   ],
   "source": [
    "\"Hola\"*3"
   ]
  },
  {
   "cell_type": "markdown",
   "id": "bfbf548d-722e-4813-ab6a-656e79a7e112",
   "metadata": {},
   "source": [
    "Podemos utilizar parentesis para ordenar!"
   ]
  },
  {
   "cell_type": "code",
   "execution_count": 18,
   "id": "a149d11a-a025-4c8b-a794-f7fb93365cdd",
   "metadata": {},
   "outputs": [
    {
     "name": "stdout",
     "output_type": "stream",
     "text": [
      "True\n"
     ]
    }
   ],
   "source": [
    "print((True and False) or (not False))"
   ]
  },
  {
   "cell_type": "markdown",
   "id": "08882a19-6df5-4b18-830b-0dc6f4465b12",
   "metadata": {},
   "source": [
    "## Definir Variables"
   ]
  },
  {
   "cell_type": "code",
   "execution_count": 19,
   "id": "028efa1e-8b18-4fc6-b278-5ea90d57e704",
   "metadata": {},
   "outputs": [
    {
     "name": "stdout",
     "output_type": "stream",
     "text": [
      "Intro i1 7\n"
     ]
    }
   ],
   "source": [
    "nombre = \"Intro \"\n",
    "prueba = \"i1 \"\n",
    "nota = 7\n",
    "print(nombre + prueba + str(nota))"
   ]
  },
  {
   "cell_type": "markdown",
   "id": "3955bdb8-976b-4f7c-88aa-7e1b29364836",
   "metadata": {},
   "source": [
    "## Input\n",
    "Para pedirle al usuario que ingrese un mensaje. Este va a ser un string"
   ]
  },
  {
   "cell_type": "code",
   "execution_count": 21,
   "id": "d4d6d1a2-ce5e-44c5-94b2-d5c926b1f374",
   "metadata": {},
   "outputs": [
    {
     "name": "stdin",
     "output_type": "stream",
     "text": [
      " Diego\n"
     ]
    },
    {
     "name": "stdout",
     "output_type": "stream",
     "text": [
      "Hola Diego\n"
     ]
    }
   ],
   "source": [
    "nombre = input()\n",
    "print(\"Hola \" + nombre)"
   ]
  },
  {
   "cell_type": "markdown",
   "id": "ad93af82-d9ef-4792-b5a1-a14ccbfb6733",
   "metadata": {},
   "source": [
    "# Control de Flujo"
   ]
  },
  {
   "cell_type": "markdown",
   "id": "adfd8663-6a58-4ca9-8332-b23be956ec0d",
   "metadata": {},
   "source": [
    "## If/else\n",
    "Si cumple la condicion, entonces entra en el if\n",
    "\n",
    "En caso contrario, entra en el else"
   ]
  },
  {
   "cell_type": "code",
   "execution_count": 22,
   "id": "c4e13ee7-8b1e-4894-b2e0-7d6a057083a5",
   "metadata": {},
   "outputs": [
    {
     "name": "stdout",
     "output_type": "stream",
     "text": [
      "par\n"
     ]
    }
   ],
   "source": [
    "numero = 4\n",
    "# Si es par\n",
    "if numero % 2 == 0:\n",
    "    print(\"par\")\n",
    "else:\n",
    "    print(\"impar\")"
   ]
  },
  {
   "cell_type": "code",
   "execution_count": 2,
   "id": "27c03995-064a-41cf-a32f-5d38abb0103c",
   "metadata": {},
   "outputs": [
    {
     "name": "stdout",
     "output_type": "stream",
     "text": [
      "par\n"
     ]
    }
   ],
   "source": [
    "numero = 4\n",
    "# Si es impar\n",
    "if numero % 2 != 0:\n",
    "    print(\"impar\")\n",
    "else:\n",
    "    print(\"par\")"
   ]
  },
  {
   "cell_type": "markdown",
   "id": "90df56ef-3de2-429b-a404-c009e2cf89b7",
   "metadata": {},
   "source": [
    "## If/elif/else\n",
    "Entra en la primera condicion que encuentre. Y deja de ejecutarse!"
   ]
  },
  {
   "cell_type": "code",
   "execution_count": 23,
   "id": "e8683af0-d2b2-4d73-9dd4-6b9f65b69bd1",
   "metadata": {},
   "outputs": [
    {
     "name": "stdout",
     "output_type": "stream",
     "text": [
      "Hola Pablo o Diego\n"
     ]
    }
   ],
   "source": [
    "nombre = \"Pablo\"\n",
    "if nombre == \"Juan\":\n",
    "    print(\"Hola Juan!\")\n",
    "elif nombre == \"Pablo\" or \"Diego\":\n",
    "    print(\"Hola Pablo o Diego\")\n",
    "elif nombre == \"Pablo\":\n",
    "    print(\"Hola Pablo\")\n",
    "else:\n",
    "    print(\"No saludo a extraños\")"
   ]
  },
  {
   "cell_type": "markdown",
   "id": "4d72221d-65d0-4515-868b-e8983cf3e381",
   "metadata": {},
   "source": [
    "## While\n",
    "Itera hasta que la condicion se haga `False`"
   ]
  },
  {
   "cell_type": "code",
   "execution_count": 24,
   "id": "855c5cc3-0314-472f-8f5d-e9eec371f0c8",
   "metadata": {},
   "outputs": [
    {
     "name": "stdout",
     "output_type": "stream",
     "text": [
      "El contador va en: 0\n",
      "El contador va en: 1\n",
      "El contador va en: 2\n",
      "El contador va en: 3\n",
      "El contador va en: 4\n"
     ]
    }
   ],
   "source": [
    "contador = 0\n",
    "while contador < 5:\n",
    "    print(\"El contador va en: \" + str(contador))\n",
    "    contador += 1\n"
   ]
  },
  {
   "cell_type": "markdown",
   "id": "88dcdfac-63db-48ec-96e8-901c4146c21c",
   "metadata": {},
   "source": [
    "Muy util cuando no sabemos cuantas veces tendremos que iterar!"
   ]
  },
  {
   "cell_type": "code",
   "execution_count": 25,
   "id": "17572892-48d0-49cf-a268-cc62649ac9f5",
   "metadata": {},
   "outputs": [
    {
     "name": "stdin",
     "output_type": "stream",
     "text": [
      " mensaje\n"
     ]
    },
    {
     "name": "stdout",
     "output_type": "stream",
     "text": [
      "El mensaje es:mensaje\n"
     ]
    },
    {
     "name": "stdin",
     "output_type": "stream",
     "text": [
      " Sigue\n"
     ]
    },
    {
     "name": "stdout",
     "output_type": "stream",
     "text": [
      "El mensaje es:Sigue\n",
      "Vamos a seguir!\n"
     ]
    },
    {
     "name": "stdin",
     "output_type": "stream",
     "text": [
      " vamos\n"
     ]
    },
    {
     "name": "stdout",
     "output_type": "stream",
     "text": [
      "El mensaje es:vamos\n"
     ]
    },
    {
     "name": "stdin",
     "output_type": "stream",
     "text": [
      " sigue\n"
     ]
    },
    {
     "name": "stdout",
     "output_type": "stream",
     "text": [
      "El mensaje es:sigue\n"
     ]
    },
    {
     "name": "stdin",
     "output_type": "stream",
     "text": [
      " STOP\n"
     ]
    }
   ],
   "source": [
    "mensaje = input()\n",
    "while mensaje != \"STOP\":\n",
    "    print(\"El mensaje es:\" + mensaje)\n",
    "    if mensaje == \"Sigue\":\n",
    "        print(\"Vamos a seguir!\")\n",
    "    mensaje = input()"
   ]
  },
  {
   "cell_type": "markdown",
   "id": "2d22e1f5-af08-4511-9833-970a1e8678a7",
   "metadata": {},
   "source": [
    "## For\n",
    "Itera dentro de un rango. \n",
    "`range(a, b)` permite definir un rango desde `a` hasta `b-1`"
   ]
  },
  {
   "cell_type": "code",
   "execution_count": 26,
   "id": "afd9fdd0-b8fe-457a-88e0-5fcdee97decc",
   "metadata": {},
   "outputs": [
    {
     "name": "stdout",
     "output_type": "stream",
     "text": [
      "Paso: 0\n",
      "Paso: 1\n",
      "Paso: 2\n",
      "Paso: 3\n"
     ]
    }
   ],
   "source": [
    "maximo = 4\n",
    "for iterador in range(0, maximo):\n",
    "    print(\"Paso: \" + str(iterador))"
   ]
  },
  {
   "cell_type": "code",
   "execution_count": 27,
   "id": "6f82b60d-c98d-46b3-b3d4-ee633edfba37",
   "metadata": {},
   "outputs": [
    {
     "name": "stdout",
     "output_type": "stream",
     "text": [
      "Paso: 3\n",
      "Paso: 4\n",
      "Paso: 5\n",
      "Paso: 6\n"
     ]
    }
   ],
   "source": [
    "for i in range(3, 7):\n",
    "    print(\"Paso: \" + str(i))"
   ]
  },
  {
   "cell_type": "markdown",
   "id": "2b162fe0-12e8-4ce4-b12e-bba96ded2c89",
   "metadata": {},
   "source": [
    "# Funciones\n",
    "\n",
    "Una funcion puede recibir parametros o ninguno, y retornar algo o nada (None)\n",
    "\n",
    "## Funciones built-in"
   ]
  },
  {
   "cell_type": "code",
   "execution_count": 29,
   "id": "36ccabe2-0aa2-46a7-99d6-37ac3d8c69c2",
   "metadata": {},
   "outputs": [
    {
     "name": "stdout",
     "output_type": "stream",
     "text": [
      "Hola mundo 1 True 3\n"
     ]
    },
    {
     "name": "stdin",
     "output_type": "stream",
     "text": [
      " Texto\n"
     ]
    },
    {
     "name": "stdout",
     "output_type": "stream",
     "text": [
      "<class 'str'>\n",
      "<class 'int'>\n"
     ]
    }
   ],
   "source": [
    "# Imprimir un mensaje en la consola, separados por espacios\n",
    "print(\"Hola mundo\", 1, True, 3)\n",
    "\n",
    "# Recibir un texto desde la consola\n",
    "texto = input() # Parámetro: (), Retorna: texto\n",
    "\n",
    "# Convertir un número a string\n",
    "numero = str(123) # Parámetro: (número), Retorna: \"123\"\n",
    "print(type(numero))\n",
    "\n",
    "# Convertir un string a número\n",
    "numero = int(\"123\") # Parámetro: (string), Retorna: 123\n",
    "print(type(numero))\n",
    "\n",
    "# Crear un rango de números\n",
    "rango = range(10) # Parámetro: (fin), Retorna: [0, 1, 2, 3, 4, 5, 6, 7, 8, 9]\n",
    "\n",
    "# Crear un rango desde 3 hasta 10\n",
    "rango = range(3, 11) # Parámetros: (inicio, fin), Retorna: [3, 4, 5, 6, 7, 8, 9, 10]"
   ]
  },
  {
   "cell_type": "markdown",
   "id": "287952f8-2fd0-40e2-8047-254b0cdf6d05",
   "metadata": {},
   "source": [
    "### Modulos adicionales\n",
    "\n",
    "Modulo random\n",
    "\n",
    "randint recibe dos enteros a, b y genera un numero entero entre a y b inclusive\n"
   ]
  },
  {
   "cell_type": "code",
   "execution_count": 35,
   "id": "479f35d4-5ad0-4d06-b57b-625982df688e",
   "metadata": {},
   "outputs": [
    {
     "name": "stdout",
     "output_type": "stream",
     "text": [
      "1\n",
      "4\n",
      "5\n",
      "0\n",
      "1\n"
     ]
    }
   ],
   "source": [
    "import random\n",
    "\n",
    "for i in range(0, 5):\n",
    "    numero = random.randint(0, 5)\n",
    "    print(numero)"
   ]
  },
  {
   "cell_type": "markdown",
   "id": "37c8b586-1beb-4feb-b779-0f4a14304f4d",
   "metadata": {},
   "source": [
    "Modulo math\n",
    "Util para operaciones matematicas complejas\n",
    "\n",
    "sqrt efectua la raiz cuadrada de un numero, y retorna un float"
   ]
  },
  {
   "cell_type": "code",
   "execution_count": 36,
   "id": "722f9f75-f895-4062-abe1-ba3c68485634",
   "metadata": {},
   "outputs": [
    {
     "name": "stdout",
     "output_type": "stream",
     "text": [
      "4.0\n"
     ]
    }
   ],
   "source": [
    "import math\n",
    "\n",
    "raiz = math.sqrt(16)\n",
    "print(raiz)"
   ]
  },
  {
   "cell_type": "markdown",
   "id": "37573f6e-81d5-4ddb-a53b-5103d24ed0c9",
   "metadata": {},
   "source": [
    "## Funciones externas\n",
    "Tambien podemos utilizar funciones creadas por otros que se encuentren en otro archivo.\n",
    "Por ejemplo si tengo un archivo `funciones_secretas.py` que contiene la funcion secreta: `mi_secreto(nombre)`\n",
    "Puedo utilizarla tal que:"
   ]
  },
  {
   "cell_type": "code",
   "execution_count": null,
   "id": "bf213ed7-c0a8-4623-a2a7-aa741c5cbcd0",
   "metadata": {},
   "outputs": [],
   "source": [
    "import funciones_secretas\n",
    "\n",
    "nombre = input()\n",
    "a = funciones_secretas.mi_secreto(nombre)"
   ]
  },
  {
   "cell_type": "markdown",
   "id": "0862592a-1f2d-42bc-9421-4446890231a0",
   "metadata": {},
   "source": [
    "## Definir nuestra funciones\n",
    "Queremos definir nuestras propias funciones!"
   ]
  },
  {
   "cell_type": "code",
   "execution_count": 37,
   "id": "780f7745-a60a-4926-bace-8a211e01cd83",
   "metadata": {},
   "outputs": [],
   "source": [
    "def mi_funcion(mensaje):\n",
    "    print(\"Mi propia funcion, con un mensaje especial:\", mensaje)"
   ]
  },
  {
   "cell_type": "code",
   "execution_count": 38,
   "id": "51f4f6e4-6843-464a-a049-66ded8b50b1e",
   "metadata": {},
   "outputs": [
    {
     "name": "stdout",
     "output_type": "stream",
     "text": [
      "Mi propia funcion, con un mensaje especial: por fin logre crear una funcion!\n",
      "Mi propia funcion, con un mensaje especial: Que feliz estoy!\n"
     ]
    }
   ],
   "source": [
    "mi_funcion(\"por fin logre crear una funcion!\")\n",
    "mi_funcion(\"Que feliz estoy!\")"
   ]
  },
  {
   "cell_type": "code",
   "execution_count": 40,
   "id": "83d75e44-8c4d-449a-9175-ed5b92a7e67f",
   "metadata": {},
   "outputs": [],
   "source": [
    "def es_par(numero):\n",
    "    if numero%2 == 0:\n",
    "        return True\n",
    "    else:\n",
    "        return False"
   ]
  },
  {
   "cell_type": "code",
   "execution_count": 41,
   "id": "ded9005a-bc45-405b-8ab0-148ce648771b",
   "metadata": {},
   "outputs": [
    {
     "name": "stdout",
     "output_type": "stream",
     "text": [
      "True\n",
      "False\n"
     ]
    }
   ],
   "source": [
    "print(es_par(10))\n",
    "print(es_par(323))"
   ]
  },
  {
   "cell_type": "markdown",
   "id": "27b8c3b0-ee56-44d1-ac3b-94fe80997f90",
   "metadata": {},
   "source": [
    "Cuidado con las variables locales y globales.\n",
    "Dentro de una funcion estas variables solo existen en la funcion!"
   ]
  },
  {
   "cell_type": "code",
   "execution_count": 52,
   "id": "4e0447dc-7f00-4010-bcbb-be71f9087946",
   "metadata": {},
   "outputs": [
    {
     "name": "stdout",
     "output_type": "stream",
     "text": [
      "La variable local dentro de la funcion  100\n",
      "La variable global dentro de la funcion 10\n",
      "La variable global fuera de la funcion  0\n"
     ]
    }
   ],
   "source": [
    "variable_global = 0\n",
    "def juego_de_variable():\n",
    "    variable_local = 100\n",
    "    print(\"La variable local dentro de la funcion \", variable_local)\n",
    "    variable_global = 10\n",
    "    print(\"La variable global dentro de la funcion\", variable_global)\n",
    "juego_de_variable()\n",
    "print(\"La variable global fuera de la funcion \", variable_global)"
   ]
  },
  {
   "cell_type": "markdown",
   "id": "a4d710df-def7-4ce6-a88b-c0e26a708d4d",
   "metadata": {},
   "source": [
    "La variable local dejo de existir!"
   ]
  },
  {
   "cell_type": "code",
   "execution_count": 5,
   "id": "74441ae1-1330-4131-aa48-97b597893d58",
   "metadata": {},
   "outputs": [
    {
     "ename": "NameError",
     "evalue": "name 'variable_local' is not defined",
     "output_type": "error",
     "traceback": [
      "\u001b[0;31m---------------------------------------------------------------------------\u001b[0m",
      "\u001b[0;31mNameError\u001b[0m                                 Traceback (most recent call last)",
      "Cell \u001b[0;32mIn[5], line 1\u001b[0m\n\u001b[0;32m----> 1\u001b[0m \u001b[38;5;28mprint\u001b[39m(\u001b[43mvariable_local\u001b[49m)\n",
      "\u001b[0;31mNameError\u001b[0m: name 'variable_local' is not defined"
     ]
    }
   ],
   "source": [
    "print(variable_local)"
   ]
  },
  {
   "cell_type": "markdown",
   "id": "b9ec1b83-bd61-4ec7-9d2e-53e2ec80adf0",
   "metadata": {},
   "source": [
    "## Funcion round\n",
    "Permite redondear un numero decimal, segun la cantidad de decimales"
   ]
  },
  {
   "cell_type": "code",
   "execution_count": 57,
   "id": "efe31f9f-783d-45e9-a4b5-cc85bcb7b69b",
   "metadata": {},
   "outputs": [
    {
     "name": "stdout",
     "output_type": "stream",
     "text": [
      "1.357\n",
      "1.4\n",
      "1.35667\n"
     ]
    }
   ],
   "source": [
    "numero = 1.356671\n",
    "redondeo = round(numero, 3)\n",
    "print(redondeo)\n",
    "\n",
    "redondeo = round(numero, 1)\n",
    "print(redondeo)\n",
    "\n",
    "redondeo = round(numero, 5)\n",
    "print(redondeo)"
   ]
  },
  {
   "cell_type": "markdown",
   "id": "5ec92edd-7cd8-47d6-ab11-0dcae658dd14",
   "metadata": {},
   "source": [
    "# String\n",
    "\n",
    "# Len\n",
    "Permite saber el largo de un string"
   ]
  },
  {
   "cell_type": "code",
   "execution_count": 58,
   "id": "826abb23-12b3-4154-b499-cb671ee1e6f9",
   "metadata": {},
   "outputs": [
    {
     "name": "stdout",
     "output_type": "stream",
     "text": [
      "30\n"
     ]
    }
   ],
   "source": [
    "largo = len(\"Que tan larga sera esta frase?\")\n",
    "print(largo)"
   ]
  },
  {
   "cell_type": "markdown",
   "id": "ec883114-6f3a-48da-854a-01435a48a0fc",
   "metadata": {},
   "source": [
    "## Indexacion\n",
    "\n",
    "Podemos acceder a un caracter de un string segun su posicion.\n",
    "Estas comienzan en 0 hasta len(string) - 1\n",
    "\n",
    "O podemos indexar con negativos, para hacerlo en sentido contrario\n",
    "\n",
    "O darle un rango de posiciones"
   ]
  },
  {
   "cell_type": "code",
   "execution_count": 76,
   "id": "bab9dcaf-a1e4-4fdf-bea4-df66ff9975e8",
   "metadata": {},
   "outputs": [
    {
     "name": "stdout",
     "output_type": "stream",
     "text": [
      "U\n",
      "s\n",
      "l\n",
      "l\n",
      "a\n",
      "string\n"
     ]
    }
   ],
   "source": [
    "mi_string = \"Un string muy especial\"\n",
    "print(mi_string[0])\n",
    "print(mi_string[3])\n",
    "print(mi_string[len(mi_string)-1])\n",
    "print(mi_string[-1])\n",
    "print(mi_string[-2])\n",
    "print(mi_string[3:9])"
   ]
  },
  {
   "cell_type": "markdown",
   "id": "bb2a662a-2e87-4405-84f9-958c81e7ee76",
   "metadata": {},
   "source": [
    "## Iterar en string\n",
    "\n",
    "Usando su posicion numerica:"
   ]
  },
  {
   "cell_type": "code",
   "execution_count": 64,
   "id": "5be374b9-eba5-4e48-88a6-d84c4f353052",
   "metadata": {},
   "outputs": [
    {
     "name": "stdout",
     "output_type": "stream",
     "text": [
      "H\n",
      "o\n",
      "l\n",
      "a\n",
      " \n",
      "a\n",
      " \n",
      "t\n",
      "o\n",
      "d\n",
      "o\n",
      "s\n",
      "!\n"
     ]
    }
   ],
   "source": [
    "mi_string = \"Hola a todos!\"\n",
    "for index in range(0, len(mi_string)):\n",
    "    print(mi_string[index])"
   ]
  },
  {
   "cell_type": "markdown",
   "id": "46a85761-9a52-4123-b732-fb8c2bd1a5be",
   "metadata": {},
   "source": [
    "O iterando directamente los caracteres:"
   ]
  },
  {
   "cell_type": "code",
   "execution_count": 65,
   "id": "1b872307-e889-4d9d-9293-6f648e588159",
   "metadata": {},
   "outputs": [
    {
     "name": "stdout",
     "output_type": "stream",
     "text": [
      "H\n",
      "o\n",
      "l\n",
      "a\n",
      " \n",
      "a\n",
      " \n",
      "t\n",
      "o\n",
      "d\n",
      "o\n",
      "s\n",
      "!\n"
     ]
    }
   ],
   "source": [
    "for caracter in mi_string:\n",
    "    print(caracter)"
   ]
  },
  {
   "cell_type": "markdown",
   "id": "1859d907-7c76-491e-9200-64a0c6e73c5b",
   "metadata": {},
   "source": [
    "## Substring"
   ]
  },
  {
   "cell_type": "code",
   "execution_count": 6,
   "id": "4d961450-878e-42ee-9e98-5b182b657843",
   "metadata": {},
   "outputs": [
    {
     "name": "stdout",
     "output_type": "stream",
     "text": [
      "True\n",
      "False\n"
     ]
    }
   ],
   "source": [
    "mi_string = \"Tengo un string que representa a todos\"\n",
    "esta = \"todos\" in mi_string\n",
    "print(esta)\n",
    "# Las mayusculas importan!\n",
    "esta = \"Representa\" in mi_string\n",
    "print(esta)"
   ]
  },
  {
   "cell_type": "markdown",
   "id": "8d38c2d6-5763-406b-a2f6-5a090eb3bf7e",
   "metadata": {},
   "source": [
    "## Inmutabilidad\n",
    "Los string son inmutables! No podemos cambiar un caracter en una posicion!"
   ]
  },
  {
   "cell_type": "code",
   "execution_count": 72,
   "id": "8a00f97e-1703-49cb-a4bd-4a6824b754d5",
   "metadata": {},
   "outputs": [
    {
     "ename": "TypeError",
     "evalue": "'str' object does not support item assignment",
     "output_type": "error",
     "traceback": [
      "\u001b[0;31m---------------------------------------------------------------------------\u001b[0m",
      "\u001b[0;31mTypeError\u001b[0m                                 Traceback (most recent call last)",
      "Cell \u001b[0;32mIn[72], line 2\u001b[0m\n\u001b[1;32m      1\u001b[0m s \u001b[38;5;241m=\u001b[39m \u001b[38;5;124m\"\u001b[39m\u001b[38;5;124mHolo\u001b[39m\u001b[38;5;124m\"\u001b[39m\n\u001b[0;32m----> 2\u001b[0m \u001b[43ms\u001b[49m\u001b[43m[\u001b[49m\u001b[38;5;241;43m3\u001b[39;49m\u001b[43m]\u001b[49m \u001b[38;5;241m=\u001b[39m \u001b[38;5;124m\"\u001b[39m\u001b[38;5;124ma\u001b[39m\u001b[38;5;124m\"\u001b[39m\n",
      "\u001b[0;31mTypeError\u001b[0m: 'str' object does not support item assignment"
     ]
    }
   ],
   "source": [
    "s = \"Holo\"\n",
    "s[3] = \"a\""
   ]
  },
  {
   "cell_type": "markdown",
   "id": "f66e44a6-c315-4719-aeff-ae8b121286f7",
   "metadata": {},
   "source": [
    "Tendremos que crear un nuego string e ingeniarnos alguna forma"
   ]
  },
  {
   "cell_type": "code",
   "execution_count": 78,
   "id": "f2270ec8-db12-4c53-80e8-8113c56b787f",
   "metadata": {},
   "outputs": [
    {
     "name": "stdout",
     "output_type": "stream",
     "text": [
      "Hola\n"
     ]
    }
   ],
   "source": [
    "nuevo = s[0:3] + \"a\"\n",
    "print(nuevo)"
   ]
  },
  {
   "cell_type": "markdown",
   "id": "b0e8dbe5-e685-4d5d-ae01-6eaec3a1d37e",
   "metadata": {},
   "source": [
    "## Metodos de string\n",
    "Los metodos son funciones que se aplican a ciertos objetos.\n",
    "### Upper\n",
    "- upper() transforma a mayusculas\n",
    "- isupper() retorna True si todos los caracteres esnta en mayusculas, caso contrario retorna False"
   ]
  },
  {
   "cell_type": "code",
   "execution_count": 84,
   "id": "a07b291f-2dea-4709-bb5a-cfc85394ccc0",
   "metadata": {},
   "outputs": [
    {
     "name": "stdout",
     "output_type": "stream",
     "text": [
      "False\n",
      "QUIERO GRITAR!\n",
      "True\n"
     ]
    }
   ],
   "source": [
    "string = \"quiero gritar!\"\n",
    "print(string.isupper())\n",
    "string_upper = string.upper()\n",
    "print(string_upper)\n",
    "print(string_upper.isupper())"
   ]
  },
  {
   "cell_type": "code",
   "execution_count": 85,
   "id": "a3a73b5e-4574-4ba0-9f5b-edc0ca0f2b4e",
   "metadata": {},
   "outputs": [
    {
     "name": "stdout",
     "output_type": "stream",
     "text": [
      "True\n"
     ]
    }
   ],
   "source": [
    "string_bizarro = \"MAYUSCULAS CON 123NUMEROS?\"\n",
    "print(string_bizarro.isupper())"
   ]
  },
  {
   "cell_type": "markdown",
   "id": "9ce49191-f019-4f3b-8c0a-a485651c0100",
   "metadata": {},
   "source": [
    "### Lower\n",
    "- lower() transforma a minusculas\n",
    "- islower() retorna True si todos los caracteres estan en minusculas, caso contrario retorna False"
   ]
  },
  {
   "cell_type": "code",
   "execution_count": 87,
   "id": "a8e5a49b-679c-4627-a930-f5c44f833b2a",
   "metadata": {},
   "outputs": [
    {
     "name": "stdout",
     "output_type": "stream",
     "text": [
      "False\n",
      "quiero dejar de gritar\n",
      "True\n"
     ]
    }
   ],
   "source": [
    "string = \"QUIERO DEJAR DE GRITAR\"\n",
    "print(string.islower())\n",
    "string_lower = string.lower()\n",
    "print(string_lower)\n",
    "print(string_lower.islower())"
   ]
  },
  {
   "cell_type": "markdown",
   "id": "25eedc50-2e32-4333-9816-c783ff7f2465",
   "metadata": {},
   "source": [
    "## isdigit\n",
    "- isdigit() retorna True si el string contiene solo numeros, False en caso contrario"
   ]
  },
  {
   "cell_type": "code",
   "execution_count": 88,
   "id": "2fe10baa-0177-4144-92a5-232ba9505c5a",
   "metadata": {},
   "outputs": [
    {
     "name": "stdout",
     "output_type": "stream",
     "text": [
      "True\n",
      "False\n",
      "False\n"
     ]
    }
   ],
   "source": [
    "print(\"123\".isdigit())\n",
    "print(\"123.\".isdigit())\n",
    "print(\"H42\".isdigit())"
   ]
  },
  {
   "cell_type": "code",
   "execution_count": null,
   "id": "00b35a6f-6237-4df0-92c9-cc6edb375335",
   "metadata": {},
   "outputs": [],
   "source": []
  }
 ],
 "metadata": {
  "kernelspec": {
   "display_name": "Python 3 (ipykernel)",
   "language": "python",
   "name": "python3"
  },
  "language_info": {
   "codemirror_mode": {
    "name": "ipython",
    "version": 3
   },
   "file_extension": ".py",
   "mimetype": "text/x-python",
   "name": "python",
   "nbconvert_exporter": "python",
   "pygments_lexer": "ipython3",
   "version": "3.10.12"
  }
 },
 "nbformat": 4,
 "nbformat_minor": 5
}
